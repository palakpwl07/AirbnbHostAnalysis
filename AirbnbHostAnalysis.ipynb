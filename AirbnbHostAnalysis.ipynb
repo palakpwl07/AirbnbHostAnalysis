{
  "nbformat": 4,
  "nbformat_minor": 0,
  "metadata": {
    "colab": {
      "provenance": []
    },
    "kernelspec": {
      "name": "python3",
      "display_name": "Python 3"
    },
    "language_info": {
      "name": "python"
    }
  },
  "cells": [
    {
      "cell_type": "code",
      "execution_count": null,
      "metadata": {
        "id": "smmo3hsKvdJY"
      },
      "outputs": [],
      "source": [
        "import pandas as pd\n",
        "\n",
        "# Load the dataset\n",
        "df = pd.read_csv('airbnb_seattle.csv')\n",
        "\n",
        "# Convert object data types to category\n",
        "for col in df.select_dtypes(include='object').columns:\n",
        "    df[col] = df[col].astype('category')\n",
        "\n",
        "# Replace all NAs with 0\n",
        "df.fillna(0, inplace=True)\n",
        "\n",
        "# Calculate Estimated Revenue\n",
        "df['estimated_revenue'] = df['price'] * df['minimum_nights']\n",
        "\n",
        "# Selecting the relevant columns after cleaning\n",
        "cleaned_df = df[['host_is_superhost', 'host_identity_verified', 'neighbourhood_group_cleansed',\n",
        "                 'accommodates', 'number_of_reviews', 'review_scores_communication',\n",
        "                 'review_scores_cleanliness', 'review_scores_value', 'review_scores_accuracy',\n",
        "                 'review_scores_checkin', 'review_scores_location', 'estimated_revenue']]\n",
        "\n",
        "# Convert price column to numeric after removing any dollar signs or commas\n",
        "cleaned_df['price'] = cleaned_df['price'].replace('[\\$,]', '', regex=True).astype(float)\n",
        "\n",
        "# Display cleaned data\n",
        "print(cleaned_df.head())\n"
      ]
    },
    {
      "cell_type": "code",
      "source": [
        "import seaborn as sns\n",
        "import matplotlib.pyplot as plt\n",
        "\n",
        "# Plotting categorical variables vs. Estimated Revenue\n",
        "sns.boxplot(x='host_is_superhost', y='estimated_revenue', data=cleaned_df)\n",
        "plt.title('Superhost Status vs Estimated Revenue')\n",
        "plt.show()\n",
        "\n",
        "sns.boxplot(x='host_identity_verified', y='estimated_revenue', data=cleaned_df)\n",
        "plt.title('Host Identity Verification vs Estimated Revenue')\n",
        "plt.show()\n",
        "\n",
        "sns.boxplot(x='neighbourhood_group_cleansed', y='estimated_revenue', data=cleaned_df)\n",
        "plt.title('Neighbourhood Group vs Estimated Revenue')\n",
        "plt.show()\n",
        "\n",
        "# Plotting numerical variables vs. Estimated Revenue\n",
        "sns.scatterplot(x='accommodates', y='estimated_revenue', data=cleaned_df)\n",
        "plt.title('Accommodates vs Estimated Revenue')\n",
        "plt.show()\n",
        "\n",
        "sns.heatmap(cleaned_df.corr(), annot=True)\n",
        "plt.title('Correlation Heatmap')\n",
        "plt.show()\n"
      ],
      "metadata": {
        "id": "ouh5PlCVv0ZE"
      },
      "execution_count": null,
      "outputs": []
    },
    {
      "cell_type": "code",
      "source": [
        "\n",
        "from sklearn.model_selection import train_test_split\n",
        "from sklearn.linear_model import LinearRegression\n",
        "from sklearn.metrics import mean_squared_error, r2_score\n",
        "\n",
        "# Univariate Regression: Price vs Accommodates\n",
        "X = cleaned_df[['accommodates']]\n",
        "y = cleaned_df['price']\n",
        "\n",
        "X_train, X_test, y_train, y_test = train_test_split(X, y, test_size=0.3, random_state=42)\n",
        "\n",
        "model = LinearRegression()\n",
        "model.fit(X_train, y_train)\n",
        "\n",
        "y_pred = model.predict(X_test)\n",
        "\n",
        "print(f'Univariate Regression: Accommodates vs Price')\n",
        "print(f'MSE: {mean_squared_error(y_test, y_pred)}')\n",
        "print(f'R^2: {r2_score(y_test, y_pred)}')\n",
        "\n",
        "plt.scatter(X_test, y_test, color='black')\n",
        "plt.plot(X_test, y_pred, color='blue', linewidth=3)\n",
        "plt.title('Univariate Regression: Accommodates vs Price')\n",
        "plt.show()\n"
      ],
      "metadata": {
        "id": "SRMddv3xv3Kr"
      },
      "execution_count": 1,
      "outputs": []
    },
    {
      "cell_type": "code",
      "source": [
        "# Multivariate Regression: Using multiple features to predict price\n",
        "X = cleaned_df[['accommodates', 'number_of_reviews', 'neighbourhood_group_cleansed']]\n",
        "y = cleaned_df['price']\n",
        "\n",
        "X = pd.get_dummies(X, drop_first=True)  # Convert categorical variables to dummy/indicator variables\n",
        "\n",
        "X_train, X_test, y_train, y_test = train_test_split(X, y, test_size=0.3, random_state=42)\n",
        "\n",
        "model = LinearRegression()\n",
        "model.fit(X_train, y_train)\n",
        "\n",
        "y_pred = model.predict(X_test)\n",
        "\n",
        "print(f'Multivariate Regression: Multiple Features vs Price')\n",
        "print(f'MSE: {mean_squared_error(y_test, y_pred)}')\n",
        "print(f'R^2: {r2_score(y_test, y_pred)}')\n",
        "\n",
        "plt.scatter(y_test, y_pred)\n",
        "plt.xlabel('True Values')\n",
        "plt.ylabel('Predictions')\n",
        "plt.title('Multivariate Regression: Multiple Features vs Price')\n",
        "plt.show()\n"
      ],
      "metadata": {
        "id": "ZrHf1g-1v7c6"
      },
      "execution_count": null,
      "outputs": []
    },
    {
      "cell_type": "code",
      "source": [
        "import xgboost as xgb\n",
        "from sklearn.model_selection import train_test_split\n",
        "from sklearn.metrics import mean_squared_error, r2_score\n",
        "\n",
        "# Prepare the data\n",
        "X = cleaned_df[['accommodates', 'number_of_reviews', 'neighbourhood_group_cleansed',\n",
        "                'host_is_superhost', 'host_identity_verified', 'review_scores_communication',\n",
        "                'review_scores_cleanliness', 'review_scores_value', 'review_scores_accuracy',\n",
        "                'review_scores_checkin', 'review_scores_location']]\n",
        "\n",
        "y = cleaned_df['price']\n",
        "\n",
        "# Convert categorical variables to dummy/indicator variables\n",
        "X = pd.get_dummies(X, drop_first=True)\n",
        "\n",
        "# Split the data into training and testing sets\n",
        "X_train, X_test, y_train, y_test = train_test_split(X, y, test_size=0.3, random_state=42)\n",
        "\n",
        "# Initialize the XGBoost Regressor\n",
        "xgb_reg = xgb.XGBRegressor(objective='reg:squarederror', n_estimators=100, learning_rate=0.05, max_depth=5, random_state=42)\n",
        "\n",
        "# Fit the model\n",
        "xgb_reg.fit(X_train, y_train)\n",
        "\n",
        "# Predict on the test set\n",
        "y_pred = xgb_reg.predict(X_test)\n",
        "\n",
        "# Evaluate the model\n",
        "mse = mean_squared_error(y_test, y_pred)\n",
        "r2 = r2_score(y_test, y_pred)\n",
        "\n",
        "print(f'XGBoost Regressor: Price Prediction')\n",
        "print(f'Mean Squared Error: {mse}')\n",
        "print(f'R^2 Score: {r2}')\n",
        "\n",
        "# Feature importance plot\n",
        "xgb.plot_importance(xgb_reg)\n",
        "plt.title('XGBoost Feature Importance')\n",
        "plt.show()\n",
        "\n",
        "# Plotting the predicted vs actual values\n",
        "plt.scatter(y_test, y_pred, color='black')\n",
        "plt.plot([min(y_test), max(y_test)], [min(y_test), max(y_test)], color='red', linewidth=2)\n",
        "plt.title('Predicted vs Actual Prices')\n",
        "plt.xlabel('Actual Prices')\n",
        "plt.ylabel('Predicted Prices')\n",
        "plt.show()\n"
      ],
      "metadata": {
        "id": "xxFab1bWwZ_5"
      },
      "execution_count": null,
      "outputs": []
    }
  ]
}